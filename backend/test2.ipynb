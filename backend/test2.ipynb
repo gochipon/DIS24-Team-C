{
 "cells": [
  {
   "cell_type": "code",
   "execution_count": 1,
   "metadata": {},
   "outputs": [
    {
     "name": "stdout",
     "output_type": "stream",
     "text": [
      "3\n",
      "3\n",
      "1. The first text provides steps that can reproduce a runtime error related to an invalid GC instruction in a Go program. The error includes a stack trace and system information, like the Linux version and Go version. The panic message and a link to the full message are provided as well.\n",
      "\n",
      "2. The second text discusses an issue with the rpc.RegisterName function in a Go program, where the service name cannot contain the \".\" character. This causes errors when running the program. The user proposes a patch for the net/rpc server.go file to resolve this issue, providing links to relevant sources and attachments for reference.\n",
      "\n",
      "3. The third text highlights a problem where the gc compiler does not report initialization cycles that occur through function values created via method values and expressions in Go code. Links to a sample code snippet demonstrating the issue and a specification clarification related to the problem are included.\n"
     ]
    }
   ],
   "source": [
    "import json\n",
    "\n",
    "import modules.SearchFromVDB as vectorsearch\n",
    "import modules.SearchFromProgreSQL as itemsearch\n",
    "import modules.Summarizer as summarizer\n",
    "\n",
    "# set query\n",
    "query = \"fix a bug\"\n",
    "repository = \"cli/cli\"\n",
    "topk = 3\n",
    "index_name = \"cli-cli-1\"\n",
    "\n",
    "# vector search\n",
    "vecsearch_results = vectorsearch.main(query, topk, index_name, repository)\n",
    "print(len(vecsearch_results))\n",
    "# sql search\n",
    "sql_query = itemsearch.main(vecsearch_results)\n",
    "print(len(sql_query))\n",
    "# extract body from sql query\n",
    "body_list = [x['body'] for x in sql_query]\n",
    "# merge search results\n",
    "merge_result = \"\\n\".join(body_list)\n",
    "# summarize\n",
    "summary = summarizer.main(merge_result)\n",
    "print(summary)"
   ]
  },
  {
   "cell_type": "code",
   "execution_count": 2,
   "metadata": {},
   "outputs": [
    {
     "name": "stdout",
     "output_type": "stream",
     "text": [
      "[{'title': 'runtime: invalid GC instruction 0xd183f0 at 0xc208217f28', 'url': 'https://api.github.com/repos/golang/go/issues/7748', 'summary': 'The user is encountering a runtime error in their Go program when running tests on the juju-core package. The error message indicates an \"invalid GC instruction\" during the garbage collection process. The provided panic stack trace shows the sequence of function calls leading to the error.\\n\\nThe system information provided includes the running kernel version and the Go version used. The user also shared a link to the full panic message for further inspection.\\n\\nTo troubleshoot this issue, the user may need to investigate the compatibility of the Go version with the libraries being used, review any recent changes in the codebase, or seek help from the Go community for possible solutions.', 'related_part': 'The most relevant part for fixing the bug is the error message provided by the panic:\\n\\n```\\nruntime: invalid GC instruction 0xd183f0 at 0xc208217f28\\nfatal error: scanblock: invalid GC instruction\\n```\\n\\nFurther context can be found by accessing the full panic message provided at the link: [http://paste.ubuntu.com/7229208/](http://paste.ubuntu.com/7229208/).'}, {'title': 'net/rpc: rpc.RegisterName can\\'t contain \".\" character', 'url': 'https://api.github.com/repos/golang/go/issues/5617', 'summary': 'The text describes an issue with using the \".\" character in rpc.RegisterName, leading to an error in the rpc service method request. The problem is identified in the ServiceMethod format where the service name does not support the \".\" character. The author created a patch for the issue in net/rpc/server.go. The attachments include the rpctest.go file and the patch file netrpc.diff. \\n\\nLinks to attachments:\\n1. <a href=\"https://storage.googleapis.com/go-attachment/5617/0/rpctest.go\">rpctest.go</a> (1113 bytes)\\n2. <a href=\"https://storage.googleapis.com/go-attachment/5617/0/netrpc.diff\">netrpc.diff</a> (719 bytes)', 'related_part': 'The most relevant part for fixing the bug is:\\n\\n\"I found the rpc use ServiceMethod format: \"Service.Method\". But the Service name don\\'t disable the \".\" character. So, I create a patch for the net/rpc/server.go for this issue.\"'}, {'title': 'cmd/gc: unreported initialization cycles', 'url': 'https://api.github.com/repos/golang/go/issues/7960', 'summary': 'The gc compiler does not detect initialization cycles involving function values created through method values and expressions. More information can be found at the provided links.', 'related_part': 'The relevant part for fixing a bug is: \"The gc compiler does not report initialization cycles that exist through function values created via method values and method expressions\"'}]\n"
     ]
    }
   ],
   "source": [
    "import json\n",
    "\n",
    "import modules.SearchFromVDB as vectorsearch\n",
    "import modules.SearchFromProgreSQL as itemsearch\n",
    "import modules.Summarizer as summarizer\n",
    "import modules.RelatedPartFinder as relatedpartfinder\n",
    "\n",
    "# set query\n",
    "query = \"fix a bug\"\n",
    "repository = \"cli/cli\"\n",
    "topk = 3\n",
    "index_name = \"cli-cli-1\"\n",
    "\n",
    "# vector search\n",
    "vecsearch_results = vectorsearch.main(query, topk, index_name, repository)\n",
    "# sql search\n",
    "sql_query = itemsearch.main(vecsearch_results)\n",
    "result = [{\"title\": _res[\"title\"], \"url\": _res[\"url\"], \"summary\": summarizer.main(_res['body']), \"related_part\": relatedpartfinder.main(query, _res[\"body\"])} for _res in sql_query]\n",
    "print(result)"
   ]
  },
  {
   "cell_type": "code",
   "execution_count": 6,
   "metadata": {},
   "outputs": [
    {
     "data": {
      "text/plain": [
       "1"
      ]
     },
     "execution_count": 6,
     "metadata": {},
     "output_type": "execute_result"
    }
   ],
   "source": [
    "len(sql_query)"
   ]
  },
  {
   "cell_type": "code",
   "execution_count": 4,
   "metadata": {},
   "outputs": [
    {
     "data": {
      "text/plain": [
       "{'title': 'runtime: invalid GC instruction 0xd183f0 at 0xc208217f28',\n",
       " 'url': 'https://api.github.com/repos/golang/go/issues/7748',\n",
       " 'summary': 'The user is encountering an error related to the Go language while running tests for the Juju-core worker upgrader. The error indicates an \"invalid GC instruction\" in the runtime, leading to a fatal error during the testing process. The user has provided a full panic message, system information (Linux) details, and the Go version being used. It seems like there might be a compatibility issue or a bug in the runtime environment.',\n",
       " 'related_part': 'The relevant part for fixing the bug is:\\n```\\nruntime: invalid GC instruction 0xd183f0 at 0xc208217f28\\nfatal error: scanblock: invalid GC instruction\\n```\\nThis indicates that there is an issue with a GC instruction causing a fatal error during execution.'}"
      ]
     },
     "execution_count": 4,
     "metadata": {},
     "output_type": "execute_result"
    }
   ],
   "source": [
    "result[0]"
   ]
  },
  {
   "cell_type": "code",
   "execution_count": null,
   "metadata": {},
   "outputs": [],
   "source": []
  }
 ],
 "metadata": {
  "kernelspec": {
   "display_name": "reazon2",
   "language": "python",
   "name": "python3"
  },
  "language_info": {
   "codemirror_mode": {
    "name": "ipython",
    "version": 3
   },
   "file_extension": ".py",
   "mimetype": "text/x-python",
   "name": "python",
   "nbconvert_exporter": "python",
   "pygments_lexer": "ipython3",
   "version": "3.9.19"
  }
 },
 "nbformat": 4,
 "nbformat_minor": 2
}
