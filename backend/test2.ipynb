{
 "cells": [
  {
   "cell_type": "markdown",
   "metadata": {},
   "source": [
    "入力 → VDB検索 → RDB検索 → 要約 → 出力のテスト"
   ]
  },
  {
   "cell_type": "code",
   "execution_count": 2,
   "metadata": {},
   "outputs": [
    {
     "name": "stdout",
     "output_type": "stream",
     "text": [
      "[{'title': 'Fix pager under Linux and macOS', 'url': 'https://api.github.com/repos/cli/cli/issues/6311', 'summary': 'The text mentions a specific fix made to the GitHub CLI, addressing an issue related to the pager under Linux and macOS. The fix involved changes to the fdWriter introduced previously, causing a side effect where early returns no longer worked as intended, leading to issues at certain points in the code. The fix is referenced by the issue number 6310.', 'related_part': 'The most relevant part for fixing the bug is this section:\\n\\n### 95bc1bcec0b7bf1ef5cc81f9cede9fbc40c7d079 Fix pager under Linux and macOS\\n\\nAfter introducing fdWriter in [1], under Linux and macOS,\\ncolorable.NewColorable(os.Stdout) is no longer a simple alias of\\nos.Stdout.\\n\\nThe side effect is that the early return at [2] no longer works. Instead,\\nit goes onto [3], which I think later cause issues at [4].\\n\\nThis section provides context about the bug related to pager under Linux and macOS, explaining the issue caused by changes introduced with fdWriter.'}, {'title': 'Fix pager under Linux and macOS', 'url': 'https://api.github.com/repos/cli/cli/pulls/6311', 'summary': 'The text discusses a specific GitHub CLI issue related to the fix for a pager under Linux and macOS. The introduction of fdWriter caused changes, making colorable.NewColorable(os.Stdout) no longer a simple alias of os.Stdout. This alteration impacted the logic flow, causing the early return to misbehave. The issue reference is #6310.', 'related_part': 'The most relevant part for fixing the bug is:\\n- 95bc1bcec0b7bf1ef5cc81f9cede9fbc40c7d079 Fix pager under Linux and macOS\\n\\nThis text indicates the specific commit that introduces the bug related to the pager under Linux and macOS. Fixing this issue should start by examining changes made in this commit.'}, {'title': 'GPG key used to sign debian packages is expired', 'url': 'https://api.github.com/repos/cli/cli/issues/6175', 'summary': 'Summary:\\n- The bug is related to the inability to install the CLI from the `.deb` package on Ubuntu or other Debian based systems due to an expired GPG key used to sign the package.\\n- The steps to reproduce the behavior involve attempting to follow the Debian installation instructions.\\n- The expected behavior is for the `apt update` step to succeed, but in actuality, it fails due to an invalid signature error.\\n- The error indicates that the GPG key used for signing has expired, resulting in the repository being considered not signed and updates being disabled.\\n- The issue is confirmed by examining the key, which shows that it expired on the reported date, and it is believed to be the same issue as #6174.', 'related_part': 'The bug here is that the GPG key used to sign the package has expired, causing the `apt update` step to fail with an error related to invalid signatures. The key can be seen as expired if examined. This is likely the same issue as #6174.'}]\n"
     ]
    }
   ],
   "source": [
    "import json\n",
    "\n",
    "import modules.SearchFromVDB as vectorsearch\n",
    "import modules.SearchFromProgreSQL as itemsearch\n",
    "import modules.Summarizer as summarizer\n",
    "import modules.RelatedPartFinder as relatedpartfinder\n",
    "\n",
    "# set query\n",
    "query = \"fix a bug\"\n",
    "repository = \"cli/cli\"\n",
    "topk = 3\n",
    "# index_name = \"cli-cli-1\"\n",
    "index_name = \"test\"\n",
    "# vector search\n",
    "vecsearch_results = vectorsearch.main(query, topk, index_name, repository)\n",
    "# sql search\n",
    "sql_query = itemsearch.main(vecsearch_results)\n",
    "result = [{\"title\": _res[\"title\"], \"url\": _res[\"url\"], \"summary\": summarizer.main(_res['body']), \"related_part\": relatedpartfinder.main(query, _res[\"body\"])} for _res in sql_query]\n",
    "print(result)"
   ]
  },
  {
   "cell_type": "code",
   "execution_count": 7,
   "metadata": {},
   "outputs": [
    {
     "data": {
      "text/plain": [
       "'\\n<!--\\nThank you for contributing to GitHub CLI!\\nTo reference an open issue, please write this in your description: `Fixes #NUMBER`\\n-->\\n\\n<!-- === GH HISTORY FENCE === -->\\n### 95bc1bcec0b7bf1ef5cc81f9cede9fbc40c7d079 Fix pager under Linux and macOS\\n\\nAfter introducing fdWriter in [1], under Linux and macOS,\\ncolorable.NewColorable(os.Stdout) is no longer a simple alias of\\nos.Stdout.\\n\\nThe side effect is that the early return at [2] no longer works. Instead,\\nit goes onto [3], which I think later cause issues at [4].\\n\\n[1] https://github.com/cli/cli/commit/436d9ef8593ac56fad48aba5e38f8c4f62d7a284\\n[2] https://github.com/golang/go/blob/4a4127bccc826ebb6079af3252bc6bfeaec187c4/src/os/exec/exec.go#L395-L397\\n[3] https://github.com/golang/go/blob/4a4127bccc826ebb6079af3252bc6bfeaec187c4/src/os/exec/exec.go#L404\\n[4] https://github.com/golang/go/blob/4a4127bccc826ebb6079af3252bc6bfeaec187c4/src/os/exec/exec.go#L536\\n\\n\\n<!-- === GH HISTORY FENCE === -->\\n\\nFixes #6310\\n'"
      ]
     },
     "execution_count": 7,
     "metadata": {},
     "output_type": "execute_result"
    }
   ],
   "source": [
    "sql_query[0][\"body\"]"
   ]
  },
  {
   "cell_type": "markdown",
   "metadata": {},
   "source": [
    "最も新しいreleaseのバージョンを拾ってくるモジュールのテスト"
   ]
  },
  {
   "cell_type": "code",
   "execution_count": 1,
   "metadata": {},
   "outputs": [
    {
     "data": {
      "text/plain": [
       "'v2.9.0'"
      ]
     },
     "execution_count": 1,
     "metadata": {},
     "output_type": "execute_result"
    }
   ],
   "source": [
    "import modules.LatestVersionFinder as latestversionfinder\n",
    "latestversionfinder.main(\"cli/cli\")"
   ]
  },
  {
   "cell_type": "markdown",
   "metadata": {},
   "source": [
    "用意したテンプレートにあっているかどうかをChatGPTに判定させ、アドバイスを貰う"
   ]
  },
  {
   "cell_type": "code",
   "execution_count": 2,
   "metadata": {},
   "outputs": [
    {
     "name": "stdout",
     "output_type": "stream",
     "text": [
      "Based on the provided text data, it seems to represent a structured format for reporting a bug or managing issues within a GitHub repository. To determine if the text fits the appropriate template, we will compare its content against the elements outlined in the two provided templates.\n",
      "\n",
      "### Overview of the Templates\n",
      "1. **Template 1 (Bug Report)**\n",
      "   - **Overview section**\n",
      "     - A general description of the bug.\n",
      "   - **Detail section**\n",
      "     - A table detailing specific aspects of the bug (item, content, version, environment, frequency).\n",
      "   - **Reproduction method**\n",
      "     - Steps to reproduce the bug.\n",
      "\n",
      "2. **Template 2 (Implementation Description)**\n",
      "   - **Overview section**\n",
      "     - A brief description of the intended implementation.\n",
      "     - Reference to the design issue.\n",
      "   - **Checklist**\n",
      "     - A list of items to monitor during implementation, with checkboxes.\n",
      "\n",
      "### Analyzing the Provided Text Data\n",
      "\n",
      "#### 1. **Fixes #6310** and **Templates**\n",
      "The text begins with \"Fixes #6310\", indicating an association with a specific issue, which aligns with both templates.\n",
      "\n",
      "#### 2. **Content Structure**\n",
      "- The first part of the text discusses a commit related to the fixes, detailing the problem and references to specific lines of code.\n",
      "- The next part is a mixture of context from the issue with a more structured bug report template, but it contains some content that aligns with Template 1.\n",
      "\n",
      "#### 3. **Template Fit**\n",
      "- **Overview**: \n",
      "  - There is a brief mention of the bug needing to be fixed. However, the \"## Overview\" section does not seem fully fleshed out with a detailed description of the bug.\n",
      "- **Detail**: \n",
      "  - There is a table included, which is appropriate.\n",
      "- **Reproduction Method**: \n",
      "  - This section is indicated but lacks specific steps for reproducing the bug.\n",
      "\n",
      "### Conclusion\n",
      "The provided text does not fully fit Template 1 due to:\n",
      "- Missing detailed description in the Overview section.\n",
      "- Missing specific steps in the Reproduction Method.\n",
      "\n",
      "### Request for Additional Information\n",
      "To fit the appropriate template, please provide the following:\n",
      "1. A complete overview of the bug, describing what is wrong in more detail.\n",
      "2. Specific steps to reproduce the bug.\n",
      "3. Any additional context or information that should be included in the Detail section (if not already present).\n",
      "\n",
      "Once this information is provided, the text can be revised to align completely with Template 1.\n"
     ]
    }
   ],
   "source": [
    "import modules.IssueRefiner as issuerefiner\n",
    "test_data = '\\n<!--\\nThank you for contributing to GitHub CLI!\\nTo reference an open issue, please write this in your description: `Fixes #NUMBER`\\n-->\\n\\n<!-- === GH HISTORY FENCE === -->\\n### 95bc1bcec0b7bf1ef5cc81f9cede9fbc40c7d079 Fix pager under Linux and macOS\\n\\nAfter introducing fdWriter in [1], under Linux and macOS,\\ncolorable.NewColorable(os.Stdout) is no longer a simple alias of\\nos.Stdout.\\n\\nThe side effect is that the early return at [2] no longer works. Instead,\\nit goes onto [3], which I think later cause issues at [4].\\n\\n[1] https://github.com/cli/cli/commit/436d9ef8593ac56fad48aba5e38f8c4f62d7a284\\n[2] https://github.com/golang/go/blob/4a4127bccc826ebb6079af3252bc6bfeaec187c4/src/os/exec/exec.go#L395-L397\\n[3] https://github.com/golang/go/blob/4a4127bccc826ebb6079af3252bc6bfeaec187c4/src/os/exec/exec.go#L404\\n[4] https://github.com/golang/go/blob/4a4127bccc826ebb6079af3252bc6bfeaec187c4/src/os/exec/exec.go#L536\\n\\n\\n<!-- === GH HISTORY FENCE === -->\\n\\nFixes #6310\\n'\n",
    "\n",
    "result = issuerefiner.main(test_data)\n",
    "print(result[\"advise\"])"
   ]
  },
  {
   "cell_type": "markdown",
   "metadata": {},
   "source": [
    "用意したテンプレートに合う形に書き直してもらう"
   ]
  },
  {
   "cell_type": "code",
   "execution_count": 3,
   "metadata": {},
   "outputs": [
    {
     "name": "stdout",
     "output_type": "stream",
     "text": [
      "Sure! Below is a sample of the provided text data:\n",
      "\n",
      "```\n",
      "<!--\n",
      "Thank you for contributing to GitHub CLI!\n",
      "To reference an open issue, please write this in your description: `Fixes #NUMBER`\n",
      "-->\n",
      "\n",
      "<!-- === GH HISTORY FENCE === -->\n",
      "### 95bc1bcec0b7bf1ef5cc81f9cede9fbc40c7d079 Fix pager under Linux and macOS\n",
      "\n",
      "After introducing fdWriter in [1], under Linux and macOS,\n",
      "colorable.NewColorable(os.Stdout) is no longer a simple alias of\n",
      "os.Stdout.\n",
      "\n",
      "The side effect is that the early return at [2] no longer works. Instead,\n",
      "it goes onto [3], which I think later cause issues at [4].\n",
      "\n",
      "[1] https://github.com/cli/cli/commit/436d9ef8593ac56fad48aba5e38f8c4f62d7a284\n",
      "[2] https://github.com/golang/go/blob/4a4127bccc826ebb6079af3252bc6bfeaec187c4/src/os/exec/exec.go#L395-L397\n",
      "[3] https://github.com/golang/go/blob/4a4127bccc826ebb6079af3252bc6bfeaec187c4/src/os/exec/exec.go#L404\n",
      "[4] https://github.com/golang/go/blob/4a4127bccc826ebb6079af3252bc6bfeaec187c4/src/os/exec/exec.go#L536\n",
      "\n",
      "\n",
      "<!-- === GH HISTORY FENCE === -->\n",
      "\n",
      "Fixes #6310\n",
      "rewritten to fit the appropriate template: ['## Overview\\n\\nbug need to be fixed\\n\\n- Single function does not affect other functions\\n- Even if the fix is delayed, other tests can be performed\\n\\n## detail\\n\\n| item | content |\\n| --- | --- |\\n| test item | ××item No.x(link to issue if exists)  |\\n| version | version(tag, commit hash, etc) |\\n| environment | ex:Win10 |\\n| frequency | frequency(always, Y/X times) |\\n\\nwrite the details of the bug\\n\\n## Reproduction method\\n\\nwrite the reproduction method\\n', '## Overview\\n\\nDescribe the implementation briefly in a list.\\nBe sure to link to the design issue.\\n**※ Be sure to issue a merge request and implement it.**\\n\\n- [ ] xxxx\\n- [ ] yyyy\\n- [ ] zzzz'].\n",
      "```\n",
      "\n",
      "This includes details about a GitHub CLI issue with relevant links and a rewritten section to fit an appropriate template. If you need anything else, feel free to ask!\n"
     ]
    }
   ],
   "source": [
    "print(result[\"refined_issue\"])"
   ]
  },
  {
   "cell_type": "markdown",
   "metadata": {},
   "source": [
    "テンプレートの中身はこんなの"
   ]
  },
  {
   "cell_type": "code",
   "execution_count": 12,
   "metadata": {},
   "outputs": [
    {
     "name": "stdout",
     "output_type": "stream",
     "text": [
      "## Overview\n",
      "\n",
      "bug need to be fixed\n",
      "\n",
      "- Single function does not affect other functions\n",
      "- Even if the fix is delayed, other tests can be performed\n",
      "\n",
      "## detail\n",
      "\n",
      "| item | content |\n",
      "| --- | --- |\n",
      "| test item | ××item No.x(link to issue if exists)  |\n",
      "| version | version(tag, commit hash, etc) |\n",
      "| environment | ex:Win10 |\n",
      "| frequency | frequency(always, Y/X times) |\n",
      "\n",
      "write the details of the bug\n",
      "\n",
      "## Reproduction method\n",
      "\n",
      "write the reproduction method\n",
      "\n"
     ]
    }
   ],
   "source": [
    "with open(\"issue_bug_fix_template.md\", \"r\") as f:\n",
    "    template = f.read()\n",
    "print(template)"
   ]
  },
  {
   "cell_type": "markdown",
   "metadata": {},
   "source": [
    "issueを判定→refineするテスト"
   ]
  },
  {
   "cell_type": "code",
   "execution_count": 1,
   "metadata": {},
   "outputs": [
    {
     "name": "stdout",
     "output_type": "stream",
     "text": [
      "提案された機能や問題の説明が抽象的で、具体的な内容が記載されていないため、意図や要件が不明確です。また、解決策に関する具体的な利点や、その実装方法についての詳しい説明も不足しています。さらに、関連するコンテキストやビジュアル資料が提示されていないため、理解を助ける情報が欠けています。これらの情報があると、実装や改善に向けた議論がしやすくなります。\n",
      "与えられたGitHubのissueは機能の説明や問題点の提起、提案された解決策、追加のコンテキストについて記載されています。この内容から、最も適切なテンプレートは「Overview」という項目が含まれる2つ目のテンプレートです。理由は、具体的な問題を提起するのではなく、機能の実装やその利点を説明するのに適しているからです。\n",
      "\n",
      "以下の通り、テンプレートに基づいてissueを書き直します。\n",
      "\n",
      "## 概要\n",
      "\n",
      "提案したい機能や解決すべき問題について簡潔に説明します。\n",
      "\n",
      "- ユーザーからのフィードバックをもとに、新しいコマンドラインインターフェース機能を追加したいと考えています。\n",
      "- この機能は、様々な操作を簡素化し、より効率的な作業を可能にすることを目的としています。\n",
      "\n",
      "## 提案された解決策\n",
      "\n",
      "新機能を実装することで、CLI及びユーザーに次のような優位性をもたらします。\n",
      "\n",
      "- 作業時間を短縮し、使用効率を向上させる。\n",
      "- ユーザー体験を改善し、直感的に操作できるようにする。\n",
      "\n",
      "## 追加のコンテキスト\n",
      "\n",
      "デザイン案やスクリーンショットなど、視覚的に理解を助ける資料があれば、こちらに追加します。\n",
      "\n",
      "これにより、開発者や関係者がより明確にプロジェクトの進行を把握できると思います。\n"
     ]
    }
   ],
   "source": [
    "import modules.IssueDiscriminator as issuediscriminator\n",
    "import modules.IssueRefiner as issuerefiner\n",
    "\n",
    "with open(\"testdata.txt\", \"r\") as f:\n",
    "    test_data = f.read()\n",
    "\n",
    "result = int(issuediscriminator.main(test_data))\n",
    "if result == 1:\n",
    "    result = issuerefiner.main(test_data)\n",
    "    print(result[\"advise\"])\n",
    "    print(result[\"refined_issue\"])\n",
    "else:\n",
    "    print(\"This is not a bug fix issue.\")"
   ]
  },
  {
   "cell_type": "code",
   "execution_count": 2,
   "metadata": {},
   "outputs": [
    {
     "data": {
      "text/plain": [
       "0"
      ]
     },
     "execution_count": 2,
     "metadata": {},
     "output_type": "execute_result"
    }
   ],
   "source": [
    "result"
   ]
  },
  {
   "cell_type": "code",
   "execution_count": null,
   "metadata": {},
   "outputs": [],
   "source": []
  }
 ],
 "metadata": {
  "kernelspec": {
   "display_name": "reazon2",
   "language": "python",
   "name": "python3"
  },
  "language_info": {
   "codemirror_mode": {
    "name": "ipython",
    "version": 3
   },
   "file_extension": ".py",
   "mimetype": "text/x-python",
   "name": "python",
   "nbconvert_exporter": "python",
   "pygments_lexer": "ipython3",
   "version": "3.9.19"
  }
 },
 "nbformat": 4,
 "nbformat_minor": 2
}
